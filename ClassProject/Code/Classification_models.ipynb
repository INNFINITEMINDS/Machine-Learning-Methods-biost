{
 "cells": [
  {
   "cell_type": "code",
   "execution_count": 1,
   "metadata": {
    "collapsed": false
   },
   "outputs": [],
   "source": [
    "import os\n",
    "from sklearn.model_selection import train_test_split\n",
    "from sklearn.model_selection import cross_val_predict\n",
    "from sklearn.metrics import r2_score\n",
    "from sklearn.metrics import mean_squared_error\n",
    "from sklearn.metrics import explained_variance_score\n",
    "from sklearn.ensemble import RandomForestClassifier\n",
    "from sklearn.svm import SVC \n",
    "import pandas as pd\n",
    "import numpy as np\n",
    "import random\n",
    "import pickle\n",
    "\n",
    "import warnings\n",
    "warnings.filterwarnings(\"ignore\")"
   ]
  },
  {
   "cell_type": "code",
   "execution_count": 2,
   "metadata": {
    "collapsed": true
   },
   "outputs": [],
   "source": [
    "# load the data\n",
    "df_rna = pd.read_hdf(\"rna_scaled.hdf\")\n",
    "df_dnase = pd.read_hdf(\"dnase_scaled.hdf\")\n",
    "df_gene_info = pd.read_hdf(\"df_gene_info.hdf\")"
   ]
  },
  {
   "cell_type": "code",
   "execution_count": 3,
   "metadata": {
    "collapsed": true
   },
   "outputs": [],
   "source": [
    "# a find gene list function that accept a Dnase position, a df_RNA file, a df_gene_info data frame, and a distance number, and then\n",
    "# return the list of gene names for prediction and the matrix of gene expression\n",
    "def find_gene_list(dnase_position, df_gene_info, distance):\n",
    "    dnase_ls = dnase_position.split(\"-\")\n",
    "    chr_id = dnase_ls[0]\n",
    "    chr_start = int(dnase_ls[1])\n",
    "    chr_end = int(dnase_ls[2])\n",
    "    \n",
    "    # define the interval for gene selection\n",
    "    gene_chr = chr_id.replace(\"chr\", \"\")\n",
    "    gene_start = chr_start - distance\n",
    "    gene_end = chr_end + distance\n",
    "    #print(gene_chr, gene_start, gene_end)\n",
    "    # find the gene list for the gene interval\n",
    "    df_gene_filter = df_gene_info[df_gene_info[\"chr\"] == gene_chr]\n",
    "    df_gene_filter = df_gene_filter[df_gene_filter[\"start\"] >= gene_start]\n",
    "    df_gene_filter = df_gene_filter[df_gene_filter[\"start\"] <= gene_end]\n",
    "    gene_ls = df_gene_filter.index\n",
    "    return(gene_ls)"
   ]
  },
  {
   "cell_type": "code",
   "execution_count": 4,
   "metadata": {
    "collapsed": false
   },
   "outputs": [],
   "source": [
    "# a combined data set function, that accept a df_RNA data set and a df_dnase data set and then combine the two data set,\n",
    "# and return the columns for the RNA genes and Dnase set\n",
    "def combine_RNA_dnase(df_rna, df_dnase):\n",
    "    df_rna[\"tissue\"] = df_rna.index\n",
    "    df_dnase[\"tissue\"] = df_dnase.index\n",
    "    df_combine = pd.merge(df_rna, df_dnase, on=\"tissue\")\n",
    "    df_combine.index = df_rna.index\n",
    "    gene_list = df_rna.loc[:, df_rna.columns != \"tissue\"].columns\n",
    "    dnase_list = df_dnase.loc[:, df_dnase.columns != \"tissue\"].columns\n",
    "    return (df_combine, gene_list, dnase_list)"
   ]
  },
  {
   "cell_type": "code",
   "execution_count": 5,
   "metadata": {
    "collapsed": true
   },
   "outputs": [],
   "source": [
    "# Here I define a function that accept a Dnase id, df_Dnase and df_RNA combined data set，\n",
    "# df_gene_info, a distance for computing nearest genes and return the X matrix and Y vector.\n",
    "def data_matrix(Dnase_id, df_combine, df_gene_info, distance):\n",
    "    \n",
    "    # find the nearest gene list\n",
    "    nearest_genes = list(find_gene_list(Dnase_id,df_gene_info, distance))\n",
    "    \n",
    "    # extract and return the df_dnase vector and df_rna matrix\n",
    "    df_combine[Dnase_id][df_combine[Dnase_id] != 0] = 1 # the value of predict_y is 0 or 1， representing close/open\n",
    "    pred_y = df_combine[Dnase_id]\n",
    "    pred_x = df_combine[nearest_genes]\n",
    "    return((pred_x, pred_y))"
   ]
  },
  {
   "cell_type": "code",
   "execution_count": 6,
   "metadata": {
    "collapsed": true
   },
   "outputs": [],
   "source": [
    "# define a function that return mse based on random forest\n",
    "def mse_random_forest(pred_x, pred_y):\n",
    "    rf = RandomForestClassifier(n_estimators = 100, n_jobs=-1)\n",
    "    pred = cross_val_predict(rf, np.array(pred_x), np.array(pred_y), cv = 10, n_jobs=-1)\n",
    "    return(mean_squared_error(pred_y, pred))"
   ]
  },
  {
   "cell_type": "code",
   "execution_count": 7,
   "metadata": {
    "collapsed": false
   },
   "outputs": [],
   "source": [
    "Dnase_id = df_dnase.columns[1]\n",
    "df_combine = combine_RNA_dnase(df_rna, df_dnase)[0]\n",
    "distance = 1000000\n",
    "pred_x = data_matrix(Dnase_id, df_combine, df_gene_info, distance)[0]\n",
    "pred_y = data_matrix(Dnase_id, df_combine, df_gene_info, distance)[1]"
   ]
  },
  {
   "cell_type": "code",
   "execution_count": 8,
   "metadata": {
    "collapsed": false
   },
   "outputs": [
    {
     "data": {
      "text/plain": [
       "0.31578947368421051"
      ]
     },
     "execution_count": 8,
     "metadata": {},
     "output_type": "execute_result"
    }
   ],
   "source": [
    "mse_random_forest(pred_x, pred_y)"
   ]
  },
  {
   "cell_type": "code",
   "execution_count": null,
   "metadata": {
    "collapsed": true
   },
   "outputs": [],
   "source": []
  },
  {
   "cell_type": "code",
   "execution_count": 9,
   "metadata": {
    "collapsed": true
   },
   "outputs": [],
   "source": [
    "# define a function that return mse based on support vector machine\n",
    "def mse_svc(pred_x, pred_y):\n",
    "    svc = SVC()\n",
    "    pred = cross_val_predict(svc, np.array(pred_x), np.array(pred_y), cv = 10, n_jobs=-1)\n",
    "    #mse_ls.append(mean_squared_error(pred_y, pred))\n",
    "    \n",
    "    return(mean_squared_error(pred_y, pred))"
   ]
  },
  {
   "cell_type": "code",
   "execution_count": 10,
   "metadata": {
    "collapsed": false
   },
   "outputs": [
    {
     "data": {
      "text/plain": [
       "0.36842105263157893"
      ]
     },
     "execution_count": 10,
     "metadata": {},
     "output_type": "execute_result"
    }
   ],
   "source": [
    "mse_svc(pred_x, pred_y)"
   ]
  },
  {
   "cell_type": "code",
   "execution_count": 11,
   "metadata": {
    "collapsed": true
   },
   "outputs": [],
   "source": [
    "# this function return a mse based on average prediction\n",
    "def mse_aver(pred_x, pred_y):\n",
    "    return(np.mean((pred_y -  np.mean(pred_y))**2))"
   ]
  },
  {
   "cell_type": "code",
   "execution_count": 12,
   "metadata": {
    "collapsed": false
   },
   "outputs": [
    {
     "data": {
      "text/plain": [
       "0.2160664819944598"
      ]
     },
     "execution_count": 12,
     "metadata": {},
     "output_type": "execute_result"
    }
   ],
   "source": [
    "mse_aver(pred_x, pred_y)"
   ]
  },
  {
   "cell_type": "code",
   "execution_count": 13,
   "metadata": {
    "collapsed": true
   },
   "outputs": [],
   "source": [
    "# The function accept a list of Dnase site, and then compute the mse score for different \n",
    "# prediction models, and return a data frame for the score for different models\n",
    "def mse_models(dnase_list, df_combine, df_gene_info, distance, output_folder):\n",
    "    # define the mse list for different models\n",
    "    rf = []\n",
    "    svc = []\n",
    "    ave = []\n",
    "    # for each dnase site, record the mse of the model\n",
    "    for dnase_id in dnase_list:\n",
    "        print(\"Start calculating Dnase site: \", dnase_id)\n",
    "        pred_x, pred_y = data_matrix(dnase_id, df_combine, df_gene_info, distance)\n",
    "        # there are nearby genes\n",
    "        if pred_x.shape[1] != 0:\n",
    "            print(\"Calculate random forest mse...\")\n",
    "            rf.append(mse_random_forest(pred_x, pred_y))\n",
    "            print(\"Calculate svc mse...\")\n",
    "            svr.append(mse_svc(pred_x, pred_y))\n",
    "            print(\"Calculate the average mse...\")\n",
    "            ave.append(mse_aver(pred_x, pred_y))\n",
    "        # if there are no nearby genes, then use the average score for prediction\n",
    "        else:\n",
    "            mse_ave = np.mean((pred_y -  np.mean(pred_y))**2)\n",
    "            rf.append(mse_ave)\n",
    "            svc.append(mse_ave)\n",
    "            ave.append(mse_ave)\n",
    "            \n",
    "    result = pd.DataFrame({\"rf\" : rf,\"svc\" : svc, \"ave\" : ave})\n",
    "    \n",
    "    folder = output_folder\n",
    "    if not os.path.exists(folder):\n",
    "        os.makedirs(folder)\n",
    "        \n",
    "    result.to_csv(folder + \"/compare_mse_models.csv\")\n",
    "    return(0)"
   ]
  },
  {
   "cell_type": "code",
   "execution_count": null,
   "metadata": {
    "collapsed": false
   },
   "outputs": [],
   "source": [
    "# here I am going to sample 1000 dnase site and then compute the mse with different scores\n",
    "\n",
    "# load the data\n",
    "df_rna = pd.read_hdf(\"rna_scaled.hdf\")\n",
    "df_dnase = pd.read_hdf(\"dnase_scaled.hdf\")\n",
    "df_gene_info = pd.read_hdf(\"df_gene_info.hdf\")\n",
    "#output_folder = \"./result/result_training\"\n",
    "output_folder = \"./Results_clf\"\n",
    "\n",
    "df_combine, gene_list, dnase_list = combine_RNA_dnase(df_rna, df_dnase)\n",
    "sample_number = 10\n",
    "distance = 1000000\n",
    "\n",
    "dnase_list_sample = random.sample(list(dnase_list), sample_number)\n",
    "\n",
    "train_list = random.sample(list(df_combine.index), 16)\n",
    "\n",
    "test_list = list(set(list(df_combine.index)).difference(set(train_list)))\n",
    "\n",
    "dnase_list_file = output_folder + \"/dnase_list.pickle\"\n",
    "train_list_file = output_folder + \"/train_list.pickle\"\n",
    "test_list_file = output_folder + \"/test_list.pickle\"\n",
    "data_file = output_folder + \"/combined_data.pickle\"\n",
    "\n",
    "with open(dnase_list_file, \"wb\") as fp:\n",
    "    pickle.dump(dnase_list_sample, fp)\n",
    "\n",
    "with open(train_list_file, \"wb\") as fp:\n",
    "    pickle.dump(train_list, fp)\n",
    "    \n",
    "with open(test_list_file, \"wb\") as fp:\n",
    "    pickle.dump(test_list, fp)\n",
    "\n",
    "with open(data_file, \"wb\") as fp:\n",
    "    pickle.dump(df_combine, fp)\n",
    "print(\"Tissue used for training: \", train_list)\n",
    "print(\"Tissue used for testing: \", test_list)"
   ]
  },
  {
   "cell_type": "code",
   "execution_count": null,
   "metadata": {
    "collapsed": false,
    "scrolled": false
   },
   "outputs": [],
   "source": [
    "mse_models(dnase_list_sample, df_combine.loc[train_list,:], df_gene_info, distance, output_folder)"
   ]
  }
 ],
 "metadata": {
  "anaconda-cloud": {},
  "kernelspec": {
   "display_name": "Python [default]",
   "language": "python",
   "name": "python3"
  },
  "language_info": {
   "codemirror_mode": {
    "name": "ipython",
    "version": 3
   },
   "file_extension": ".py",
   "mimetype": "text/x-python",
   "name": "python",
   "nbconvert_exporter": "python",
   "pygments_lexer": "ipython3",
   "version": "3.5.2"
  }
 },
 "nbformat": 4,
 "nbformat_minor": 2
}
